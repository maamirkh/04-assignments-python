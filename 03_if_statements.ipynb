{
  "nbformat": 4,
  "nbformat_minor": 0,
  "metadata": {
    "colab": {
      "provenance": [],
      "authorship_tag": "ABX9TyNwpyJ+WHf/ZrkJ12Dmc46b",
      "include_colab_link": true
    },
    "kernelspec": {
      "name": "python3",
      "display_name": "Python 3"
    },
    "language_info": {
      "name": "python"
    }
  },
  "cells": [
    {
      "cell_type": "markdown",
      "metadata": {
        "id": "view-in-github",
        "colab_type": "text"
      },
      "source": [
        "<a href=\"https://colab.research.google.com/github/maamirkh/04-assignments-python/blob/main/03_if_statements.ipynb\" target=\"_parent\"><img src=\"https://colab.research.google.com/assets/colab-badge.svg\" alt=\"Open In Colab\"/></a>"
      ]
    },
    {
      "cell_type": "code",
      "execution_count": null,
      "metadata": {
        "colab": {
          "base_uri": "https://localhost:8080/"
        },
        "id": "a2uxeS4Fz1We",
        "outputId": "671c78f9-7856-48b7-e4a4-acbd7aaa6f60"
      },
      "outputs": [
        {
          "output_type": "stream",
          "name": "stdout",
          "text": [
            "0\n",
            "2\n",
            "4\n",
            "6\n",
            "8\n",
            "10\n",
            "12\n",
            "14\n",
            "16\n",
            "18\n",
            "20\n",
            "22\n",
            "24\n",
            "26\n",
            "28\n",
            "30\n",
            "32\n",
            "34\n",
            "36\n",
            "38\n"
          ]
        }
      ],
      "source": [
        "# 01_print_events\n",
        "\n",
        "def main():\n",
        "    for i in range(20):\n",
        "        print(i * 2)\n",
        "if __name__ == \"__main__\":\n",
        "    main()"
      ]
    },
    {
      "cell_type": "code",
      "source": [
        "# 02_international_voting_age\n",
        "\n",
        "PETURKSBOUPIO_AGE : int = 16\n",
        "STANLAU_AGE : int =25\n",
        "MAYENGUA_AGE : int = 48\n",
        "\n",
        "def main():\n",
        "    user_age = int(input(\"How old are you\"))\n",
        "\n",
        "    if user_age >= PETURKSBOUPIO_AGE:\n",
        "        print(\"You are eligible to vote in the PETURKSBOUPIO\")\n",
        "    else:\n",
        "        print(\"You are not eligible to vote in the PETURKSBOUPIO\")\n",
        "\n",
        "    if user_age >= STANLAU_AGE:\n",
        "        print(\"You are eligible to vote in the STANLAU\")\n",
        "    else:\n",
        "        print(\"You are not eligible to vote in the STANLAU\")\n",
        "\n",
        "    if user_age >= MAYENGUA_AGE:\n",
        "        print(\"You are eligible to vote in the MAYENGUA\")\n",
        "    else:\n",
        "        print(\"You are not eligible to vote in the MAYENGUA\")\n",
        "\n",
        "if __name__ == \"__main__\":\n",
        "    main()"
      ],
      "metadata": {
        "colab": {
          "base_uri": "https://localhost:8080/"
        },
        "id": "QkN1CcEB0wb8",
        "outputId": "51ba70a7-4210-4b72-e4ad-094fe99a6d81"
      },
      "execution_count": null,
      "outputs": [
        {
          "output_type": "stream",
          "name": "stdout",
          "text": [
            "How old are you51\n",
            "You are eligible to vote in the PETURKSBOUPIO\n",
            "You are eligible to vote in the STANLAU\n",
            "You are eligible to vote in the MAYENGUA\n"
          ]
        }
      ]
    },
    {
      "cell_type": "code",
      "source": [
        "# 03_leap_year\n",
        "\n",
        "def main():\n",
        "    year = int(input(\"Please input a year\"))\n",
        "\n",
        "    if year % 4 == 0:\n",
        "        if year % 100 == 0:\n",
        "            if year % 400 == 0:\n",
        "                print(f\"{year} is a leap year\")\n",
        "            else:\n",
        "                print(f\"{year} is not a leap year\")\n",
        "        else:\n",
        "            print(f\"{year} is a leap year\")\n",
        "    else:\n",
        "        print(f\"{year} is not a leap year\")\n",
        "\n",
        "if __name__ == \"__main__\":\n",
        "    main()\n"
      ],
      "metadata": {
        "colab": {
          "base_uri": "https://localhost:8080/"
        },
        "id": "WK1LfIy12Mp0",
        "outputId": "68e765af-476b-48d6-e750-b78297da2826"
      },
      "execution_count": null,
      "outputs": [
        {
          "output_type": "stream",
          "name": "stdout",
          "text": [
            "Please input a year1976\n",
            "1976 is a leap year\n"
          ]
        }
      ]
    },
    {
      "cell_type": "code",
      "source": [
        "# 04_tall_enough_to_ride\n",
        "\n",
        "MINIMUM_HEIGHT : int = 50\n",
        "\n",
        "def main():\n",
        "    height = float(input(\"How tall are you\"))\n",
        "\n",
        "    if height >= MINIMUM_HEIGHT:\n",
        "        print(\"You are tall enough to ride\")\n",
        "    else:\n",
        "        print(\"You are not tall enough to ride, but may be next year!\")\n",
        "\n",
        "if __name__ == '__main__':\n",
        "    main()"
      ],
      "metadata": {
        "colab": {
          "base_uri": "https://localhost:8080/"
        },
        "id": "HofSbyOT3cyF",
        "outputId": "2d940d54-c1f7-458f-b697-37b7257fa7b4"
      },
      "execution_count": null,
      "outputs": [
        {
          "output_type": "stream",
          "name": "stdout",
          "text": [
            "How tall are you56\n",
            "You are tall enough to ride\n"
          ]
        }
      ]
    },
    {
      "cell_type": "code",
      "source": [
        "# 05_random_numbers\n",
        "\n",
        "import random\n",
        "\n",
        "N_NUMBERS : int = 10\n",
        "MIN_VALUE: int = 1\n",
        "MAX_VALUE: int = 100\n",
        "\n",
        "def main():\n",
        "    for i in range(N_NUMBERS):\n",
        "        print(random.randint(MIN_VALUE, MAX_VALUE))\n",
        "\n",
        "if __name__ == \"__main__\":\n",
        "    main()"
      ],
      "metadata": {
        "colab": {
          "base_uri": "https://localhost:8080/"
        },
        "id": "rZ-8CrCT4S2I",
        "outputId": "3f9b099e-49fa-427f-e405-8afe8dc63a14"
      },
      "execution_count": null,
      "outputs": [
        {
          "output_type": "stream",
          "name": "stdout",
          "text": [
            "72\n",
            "87\n",
            "65\n",
            "76\n",
            "23\n",
            "90\n",
            "76\n",
            "41\n",
            "45\n",
            "45\n"
          ]
        }
      ]
    }
  ]
}