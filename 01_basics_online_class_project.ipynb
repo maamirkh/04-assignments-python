{
  "nbformat": 4,
  "nbformat_minor": 0,
  "metadata": {
    "colab": {
      "provenance": [],
      "authorship_tag": "ABX9TyPEGhlYqR+VBGBXmYUG/a0T",
      "include_colab_link": true
    },
    "kernelspec": {
      "name": "python3",
      "display_name": "Python 3"
    },
    "language_info": {
      "name": "python"
    }
  },
  "cells": [
    {
      "cell_type": "markdown",
      "metadata": {
        "id": "view-in-github",
        "colab_type": "text"
      },
      "source": [
        "<a href=\"https://colab.research.google.com/github/maamirkh/04-assignments-python/blob/main/01_basics_online_class_project.ipynb\" target=\"_parent\"><img src=\"https://colab.research.google.com/assets/colab-badge.svg\" alt=\"Open In Colab\"/></a>"
      ]
    },
    {
      "cell_type": "code",
      "execution_count": null,
      "metadata": {
        "colab": {
          "base_uri": "https://localhost:8080/"
        },
        "id": "WuvQ7nstNqdH",
        "outputId": "5f279dc7-ce82-474b-98ea-977128bc40ef"
      },
      "outputs": [
        {
          "output_type": "stream",
          "name": "stdout",
          "text": [
            "What do you want :sad\n",
            "Sorry I only tell jokes\n"
          ]
        }
      ],
      "source": [
        "# 00_joke_bot\n",
        "\n",
        "PROMPT: str = \"What do you want\"\n",
        "JOKE: str = \"Here is a joke for you! Sophia is heading out to the groceroy store. A programmer tells\"\n",
        "SORRY: str = \"Sorry I only tell jokes\"\n",
        "\n",
        "def main():\n",
        "    user_input = input(f\"{PROMPT} :\")\n",
        "    user_input = user_input.strip().lower()\n",
        "\n",
        "    if \"joke\" in user_input:\n",
        "        print(JOKE)\n",
        "    else:\n",
        "        print(SORRY)\n",
        "\n",
        "if __name__ == \"__main__\":\n",
        "    main()\n"
      ]
    },
    {
      "cell_type": "code",
      "source": [
        "# 01_double_it\n",
        "\n",
        "def main():\n",
        "\n",
        "    num_input: int = int(input(\"Enter a number :\"))\n",
        "\n",
        "    while True:\n",
        "        num_input: int = (num_input) * 2\n",
        "        print(num_input)\n",
        "        if (num_input) > 100:\n",
        "\n",
        "            break\n",
        "\n",
        "\n",
        "if __name__ == \"__main__\":\n",
        "    main()"
      ],
      "metadata": {
        "colab": {
          "base_uri": "https://localhost:8080/"
        },
        "id": "pFsQGK_sR73u",
        "outputId": "524a8150-0b43-490d-8dea-5097fcc1e7d4"
      },
      "execution_count": null,
      "outputs": [
        {
          "output_type": "stream",
          "name": "stdout",
          "text": [
            "Enter a number :3\n",
            "6\n",
            "12\n",
            "24\n",
            "48\n",
            "96\n",
            "192\n"
          ]
        }
      ]
    },
    {
      "cell_type": "code",
      "source": [
        "# 02_liftoff\n",
        "\n",
        "\n",
        "\n",
        "def main():\n",
        "    i = 10\n",
        "    while i >= 0:\n",
        "        print(i)\n",
        "        i -= 1\n",
        "        if i < 0:\n",
        "            print(\"LiftOff\")\n",
        "\n",
        "\n",
        "\n",
        "\n",
        "if __name__ == \"__main__\":\n",
        "    main()"
      ],
      "metadata": {
        "colab": {
          "base_uri": "https://localhost:8080/"
        },
        "id": "HC6Hd8i9BjRp",
        "outputId": "e7515f8a-1384-469f-ded8-e14f4ed5d906"
      },
      "execution_count": null,
      "outputs": [
        {
          "output_type": "stream",
          "name": "stdout",
          "text": [
            "10\n",
            "9\n",
            "8\n",
            "7\n",
            "6\n",
            "5\n",
            "4\n",
            "3\n",
            "2\n",
            "1\n",
            "0\n",
            "LiftOff\n"
          ]
        }
      ]
    }
  ]
}