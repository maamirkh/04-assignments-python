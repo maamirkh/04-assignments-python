{
  "cells": [
    {
      "cell_type": "markdown",
      "metadata": {
        "id": "view-in-github",
        "colab_type": "text"
      },
      "source": [
        "<a href=\"https://colab.research.google.com/github/maamirkh/04-assignments-python/blob/main/05_loops_control_flow.ipynb\" target=\"_parent\"><img src=\"https://colab.research.google.com/assets/colab-badge.svg\" alt=\"Open In Colab\"/></a>"
      ]
    },
    {
      "cell_type": "code",
      "execution_count": null,
      "metadata": {
        "colab": {
          "base_uri": "https://localhost:8080/"
        },
        "id": "UU50yQR8bxgk",
        "outputId": "584aae39-d004-4fcb-e7b4-7e24676ffc06"
      },
      "outputs": [
        {
          "name": "stdout",
          "output_type": "stream",
          "text": [
            "I am thinking of a number between 1 to 99...\n",
            "Enter a guess: 33\n",
            "your guess is too low\n",
            "\n",
            "Enter a new guess: 45\n",
            "your guess is too high\n",
            "\n",
            "Enter a new guess: 40\n",
            "your guess is too low\n",
            "\n",
            "Enter a new guess: 42\n",
            "your guess is too low\n",
            "\n",
            "Enter a new guess: 45\n",
            "your guess is too high\n",
            "\n",
            "Enter a new guess: 44\n",
            "Congrats! the number was: 44\n"
          ]
        }
      ],
      "source": [
        "# 00_guess_my_number\n",
        "\n",
        "import random\n",
        "\n",
        "def main():\n",
        "    # Generate the secret number at random!\n",
        "    secret_number = random.randint(1, 99)\n",
        "\n",
        "    print(\"I am thinking of a number between 1 to 99...\")\n",
        "\n",
        "    # Get user's guess\n",
        "    guess = int(input(\"Enter a guess: \"))\n",
        "\n",
        "    # True if guess is not equal to secret number\n",
        "    while guess != secret_number:\n",
        "        if guess < secret_number: # If-statement is True if guess is less than secret number\n",
        "            print(\"your guess is too low\")\n",
        "\n",
        "        else:\n",
        "            print(\"your guess is too high\")\n",
        "\n",
        "        print() # Print an empty line to tidy up the console for new guesses\n",
        "        guess = int(input(\"Enter a new guess: \"))  # Get a new guess from the user\n",
        "\n",
        "    print(\"Congrats! the number was: \" + str(secret_number))\n",
        "\n",
        "if __name__ == \"__main__\":\n",
        "    main()"
      ]
    },
    {
      "cell_type": "code",
      "execution_count": 8,
      "metadata": {
        "colab": {
          "base_uri": "https://localhost:8080/"
        },
        "id": "y5RFHr6YgFCZ",
        "outputId": "d15e3af4-da5a-4c16-e26f-d8fcc9fbfe78",
        "collapsed": true
      },
      "outputs": [
        {
          "output_type": "stream",
          "name": "stdout",
          "text": [
            "0\n",
            "1\n",
            "1\n",
            "2\n",
            "3\n",
            "5\n",
            "8\n",
            "13\n",
            "21\n",
            "34\n",
            "55\n",
            "89\n",
            "144\n",
            "233\n",
            "377\n",
            "610\n",
            "987\n"
          ]
        }
      ],
      "source": [
        "# 01_fibonacci\n",
        "\n",
        "MAX_TERM_VALUE : int = 1000\n",
        "\n",
        "def main():\n",
        "    curr_term = 0 # the 0th is fibonacci numer\n",
        "    next_term = 1 # the 1st is fibonacci number\n",
        "\n",
        "    while curr_term <= MAX_TERM_VALUE:\n",
        "        print(curr_term)\n",
        "\n",
        "        term_after_next = curr_term + next_term\n",
        "        curr_term = next_term\n",
        "        next_term = term_after_next\n",
        "\n",
        "if __name__ == \"__main__\":\n",
        "    main()\n"
      ]
    },
    {
      "cell_type": "code",
      "execution_count": null,
      "metadata": {
        "colab": {
          "base_uri": "https://localhost:8080/"
        },
        "id": "PVN4AxB4UUig",
        "outputId": "03076780-dda4-42c1-fc46-caf780c487a8"
      },
      "outputs": [
        {
          "name": "stdout",
          "output_type": "stream",
          "text": [
            "0\n",
            "2\n",
            "4\n",
            "6\n",
            "8\n",
            "10\n",
            "12\n",
            "14\n",
            "16\n",
            "18\n",
            "20\n",
            "22\n",
            "24\n",
            "26\n",
            "28\n",
            "30\n",
            "32\n",
            "34\n",
            "36\n",
            "38\n"
          ]
        }
      ],
      "source": [
        "# 02_print_events\n",
        "\n",
        "def main():\n",
        "    # This for-loop start at 0 and counts up to 19 (for a total of 20 numbers)\n",
        "    for i in range(20):\n",
        "        print(i * 2)  # Use the 'i' value inside the for-loop\n",
        "\n",
        "# Call the main function when \"run\", no need to edit anything below!\n",
        "if __name__ == \"__main__\":\n",
        "    main()"
      ]
    },
    {
      "cell_type": "code",
      "execution_count": null,
      "metadata": {
        "colab": {
          "base_uri": "https://localhost:8080/"
        },
        "id": "DMSSbRCfUwXt",
        "outputId": "3897c377-7482-42ba-cda1-8e2461c4a482"
      },
      "outputs": [
        {
          "output_type": "stream",
          "name": "stdout",
          "text": [
            "Please type the following affirmation: I am capable of doing anything I put my mind to.\n",
            "\n",
            "That was not the affirmation.\n",
            "That's right! :)\n"
          ]
        }
      ],
      "source": [
        "# 03_wholesome_machine\n",
        "\n",
        "AFFIRMATION : str = \"I am capable of doing anything I put my mind to.\"\n",
        "\n",
        "def main():\n",
        "    print(\"Please type the following affirmation: \" + AFFIRMATION)\n",
        "\n",
        "    user_feedback = input()  # Get user's input\n",
        "    while user_feedback != AFFIRMATION:  # While the user's input isn't the affirmation\n",
        "        # Tell the user that they did not type the affirmation correctly\n",
        "        print(\"That was not the affirmation.\")\n",
        "\n",
        "        if user_feedback == \"\":\n",
        "              break\n",
        "        # Ask the user to type the affirmation again!\n",
        "        print(\"Please type the following affirmation: \" + AFFIRMATION)\n",
        "        user_feedback = input()\n",
        "\n",
        "    print(\"That's right! :)\")\n",
        "\n",
        "\n",
        "if __name__ == '__main__':\n",
        "    main()"
      ]
    }
  ],
  "metadata": {
    "colab": {
      "provenance": [],
      "authorship_tag": "ABX9TyNAwh1rSHG91h53VJuOq+n+",
      "include_colab_link": true
    },
    "kernelspec": {
      "display_name": "Python 3",
      "name": "python3"
    },
    "language_info": {
      "name": "python"
    }
  },
  "nbformat": 4,
  "nbformat_minor": 0
}