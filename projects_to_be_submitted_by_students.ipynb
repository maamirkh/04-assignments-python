{
  "nbformat": 4,
  "nbformat_minor": 0,
  "metadata": {
    "colab": {
      "provenance": [],
      "authorship_tag": "ABX9TyNMbAak+/9zTPmCLMtNt0yj",
      "include_colab_link": true
    },
    "kernelspec": {
      "name": "python3",
      "display_name": "Python 3"
    },
    "language_info": {
      "name": "python"
    }
  },
  "cells": [
    {
      "cell_type": "markdown",
      "metadata": {
        "id": "view-in-github",
        "colab_type": "text"
      },
      "source": [
        "<a href=\"https://colab.research.google.com/github/maamirkh/04-assignments-python/blob/main/projects_to_be_submitted_by_students.ipynb\" target=\"_parent\"><img src=\"https://colab.research.google.com/assets/colab-badge.svg\" alt=\"Open In Colab\"/></a>"
      ]
    },
    {
      "cell_type": "code",
      "execution_count": 1,
      "metadata": {
        "colab": {
          "base_uri": "https://localhost:8080/"
        },
        "id": "qwjFxCOwW0Kf",
        "outputId": "0348fb3c-f28e-4ab5-8083-1347af7b80f6"
      },
      "outputs": [
        {
          "output_type": "stream",
          "name": "stdout",
          "text": [
            "Adjective: excited\n",
            "Verb: learn\n",
            "Verb: flying\n",
            "Famous person: superman\n",
            "Computer programming is so excited! It makes me so excited all the time because I love to learn. Stay hydrated and flying like you are superman!\n"
          ]
        }
      ],
      "source": [
        "# 01-Mad libs Python Project\n",
        "\n",
        "adj = input(\"Adjective: \")\n",
        "verb1 = input(\"Verb: \")\n",
        "verb2 = input(\"Verb: \")\n",
        "famous_person = input(\"Famous person: \")\n",
        "\n",
        "madlib = f\"Computer programming is so {adj}! It makes me so excited all the time because \\\n",
        "I love to {verb1}. Stay hydrated and {verb2} like you are {famous_person}!\"\n",
        "\n",
        "print(madlib)"
      ]
    },
    {
      "cell_type": "code",
      "source": [
        "# 02-Guess the number (computer)\n",
        "\n",
        "import random\n",
        "\n",
        "def guess(x):\n",
        "    random_number = random.randint(1, x)\n",
        "    guess = 0\n",
        "    while guess != random_number:\n",
        "        guess = int(input(f'Guess a number between 1 and {x}: '))\n",
        "        if guess < random_number:\n",
        "            print('Sorry, guess again. Too low.')\n",
        "        elif guess > random_number:\n",
        "            print('Sorry, guess again. Too high.')\n",
        "\n",
        "    print(f'Yay, congrats. You have guessed the number {random_number} correctly!!')\n",
        "\n",
        "if __name__ == '__main__':\n",
        "    guess(10)"
      ],
      "metadata": {
        "colab": {
          "base_uri": "https://localhost:8080/"
        },
        "id": "9wewFqqiXlzc",
        "outputId": "80a4872b-b5db-44ee-d915-cc364c76b1d6"
      },
      "execution_count": 2,
      "outputs": [
        {
          "output_type": "stream",
          "name": "stdout",
          "text": [
            "Guess a number between 1 and 10: 4\n",
            "Sorry, guess again. Too low.\n",
            "Guess a number between 1 and 10: 5\n",
            "Sorry, guess again. Too low.\n",
            "Guess a number between 1 and 10: 6\n",
            "Sorry, guess again. Too low.\n",
            "Guess a number between 1 and 10: 7\n",
            "Sorry, guess again. Too low.\n",
            "Guess a number between 1 and 10: 9\n",
            "Sorry, guess again. Too high.\n",
            "Guess a number between 1 and 10: 8\n",
            "Yay, congrats. You have guessed the number 8 correctly!!\n"
          ]
        }
      ]
    },
    {
      "cell_type": "code",
      "source": [
        "# 03-Guess number (user)\n",
        "\n",
        "def computer_guess(x):\n",
        "    low = 1\n",
        "    high = x\n",
        "    feedback = ''\n",
        "    while feedback != 'c':\n",
        "        if low != high:\n",
        "            guess = random.randint(low, high)\n",
        "        else:\n",
        "            guess = low  # could also be high b/c low = high\n",
        "        feedback = input(f'Is {guess} too high (H), too low (L), or correct (C)?? ').lower()\n",
        "        if feedback == 'h':\n",
        "            high = guess - 1\n",
        "        elif feedback == 'l':\n",
        "            low = guess + 1\n",
        "\n",
        "    print(f'Yay! The computer guessed your number, {guess}, correctly!')\n",
        "\n",
        "\n",
        "if __name__ == '__main__':\n",
        "    computer_guess(10)\n",
        "\n"
      ],
      "metadata": {
        "colab": {
          "base_uri": "https://localhost:8080/"
        },
        "id": "YBZ4wSqAY5eq",
        "outputId": "ffc23986-f949-4fdb-8838-0ec21548bf37"
      },
      "execution_count": 5,
      "outputs": [
        {
          "output_type": "stream",
          "name": "stdout",
          "text": [
            "Is 6 too high (H), too low (L), or correct (C)?? l\n",
            "Is 10 too high (H), too low (L), or correct (C)?? h\n",
            "Is 9 too high (H), too low (L), or correct (C)?? h\n",
            "Is 8 too high (H), too low (L), or correct (C)?? c\n",
            "Yay! The computer guessed your number, 8, correctly!\n"
          ]
        }
      ]
    },
    {
      "cell_type": "code",
      "source": [
        "# 04-rock-paper-scissors game\n",
        "\n",
        "import random\n",
        "import math\n",
        "\n",
        "def play():\n",
        "    user = input(\"What's your choice? 'r' for rock, 'p' for paper, 's' for scissors\\n\")\n",
        "    user = user.lower()\n",
        "\n",
        "    computer = random.choice(['r', 'p', 's'])\n",
        "\n",
        "    if user == computer:\n",
        "        return (0, user, computer)\n",
        "\n",
        "    # r > s, s > p, p > r\n",
        "    if is_win(user, computer):\n",
        "        return (1, user, computer)\n",
        "\n",
        "    return (-1, user, computer)\n",
        "\n",
        "def is_win(player, opponent):\n",
        "    # return true is the player beats the opponent\n",
        "    # winning conditions: r > s, s > p, p > r\n",
        "    if (player == 'r' and opponent == 's') or (player == 's' and opponent == 'p') or (player == 'p' and opponent == 'r'):\n",
        "        return True\n",
        "    return False\n",
        "\n",
        "def play_best_of(n):\n",
        "    # play against the computer until someone wins best of n games\n",
        "    # to win, you must win ceil(n/2) games (ie 2/3, 3/5, 4/7)\n",
        "    player_wins = 0\n",
        "    computer_wins = 0\n",
        "    wins_necessary = math.ceil(n/2)\n",
        "    while player_wins < wins_necessary and computer_wins < wins_necessary:\n",
        "        result, user, computer = play()\n",
        "        # tie\n",
        "        if result == 0:\n",
        "            print('It is a tie. You and the computer have both chosen {}. \\n'.format(user))\n",
        "        # you win\n",
        "        elif result == 1:\n",
        "            player_wins += 1\n",
        "            print('You chose {} and the computer chose {}. You won!\\n'.format(user, computer))\n",
        "        else:\n",
        "            computer_wins += 1\n",
        "            print('You chose {} and the computer chose {}. You lost :(\\n'.format(user, computer))\n",
        "\n",
        "    if player_wins > computer_wins:\n",
        "        print('You have won the best of {} games! What a champ :D'.format(n))\n",
        "    else:\n",
        "        print('Unfortunately, the computer has won the best of {} games. Better luck next time!'.format(n))\n",
        "\n",
        "\n",
        "if __name__ == '__main__':\n",
        "    play_best_of(3) # 2\n"
      ],
      "metadata": {
        "colab": {
          "base_uri": "https://localhost:8080/"
        },
        "id": "nkzLfzFlfAV1",
        "outputId": "5a0e1c83-f704-4b30-8d7d-78d73e7da2a0"
      },
      "execution_count": 6,
      "outputs": [
        {
          "output_type": "stream",
          "name": "stdout",
          "text": [
            "What's your choice? 'r' for rock, 'p' for paper, 's' for scissors\n",
            "r\n",
            "You chose r and the computer chose s. You won!\n",
            "\n",
            "What's your choice? 'r' for rock, 'p' for paper, 's' for scissors\n",
            "s\n",
            "You chose s and the computer chose r. You lost :(\n",
            "\n",
            "What's your choice? 'r' for rock, 'p' for paper, 's' for scissors\n",
            "r\n",
            "It is a tie. You and the computer have both chosen r. \n",
            "\n",
            "What's your choice? 'r' for rock, 'p' for paper, 's' for scissors\n",
            "s\n",
            "You chose s and the computer chose r. You lost :(\n",
            "\n",
            "Unfortunately, the computer has won the best of 3 games. Better luck next time!\n"
          ]
        }
      ]
    },
    {
      "cell_type": "code",
      "source": [
        "# 06-Countdown-timer\n",
        "\n",
        "import time\n",
        "\n",
        "def countdown(t):\n",
        "    while t:\n",
        "        mins, secs = divmod(t, 60)\n",
        "        timer = '{:02d}:{:02d}'.format(mins, secs)\n",
        "        print(timer, end='\\r')\n",
        "        time.sleep(1)\n",
        "        t -= 1\n",
        "    print('Timer completed')\n",
        "\n",
        "t = input(\"Enter the time in seconds: \")\n",
        "\n",
        "countdown(int(t))\n"
      ],
      "metadata": {
        "colab": {
          "base_uri": "https://localhost:8080/"
        },
        "id": "4DMrxVxef_3X",
        "outputId": "736d71c3-2fd1-4700-8d45-f3a19d709c41"
      },
      "execution_count": 10,
      "outputs": [
        {
          "output_type": "stream",
          "name": "stdout",
          "text": [
            "Enter the time in seconds: 2\n",
            "Timer completed\n"
          ]
        }
      ]
    }
  ]
}