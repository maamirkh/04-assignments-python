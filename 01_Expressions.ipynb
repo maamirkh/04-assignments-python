{
  "nbformat": 4,
  "nbformat_minor": 0,
  "metadata": {
    "colab": {
      "provenance": [],
      "authorship_tag": "ABX9TyOO3V2eA6d1JCJT7nL4OOPy",
      "include_colab_link": true
    },
    "kernelspec": {
      "name": "python3",
      "display_name": "Python 3"
    },
    "language_info": {
      "name": "python"
    }
  },
  "cells": [
    {
      "cell_type": "markdown",
      "metadata": {
        "id": "view-in-github",
        "colab_type": "text"
      },
      "source": [
        "<a href=\"https://colab.research.google.com/github/maamirkh/04-assignments-python/blob/main/01_Expressions.ipynb\" target=\"_parent\"><img src=\"https://colab.research.google.com/assets/colab-badge.svg\" alt=\"Open In Colab\"/></a>"
      ]
    },
    {
      "cell_type": "code",
      "execution_count": null,
      "metadata": {
        "colab": {
          "base_uri": "https://localhost:8080/"
        },
        "id": "MnNHROMTBw_l",
        "outputId": "4296ef98-fd13-4576-ce5e-67d8bede3ade"
      },
      "outputs": [
        {
          "output_type": "stream",
          "name": "stdout",
          "text": [
            "die1 in main() starts as:10\n",
            "Total of two dice: 7\n",
            "Total of two dice: 5\n",
            "Total of two dice: 8\n",
            "die1 in main() is:10\n"
          ]
        }
      ],
      "source": [
        "# 01_dicesimulator\n",
        "\"\"\"\n",
        "Simulate rolling two dice, three times.  Prints\n",
        "the results of each die roll.  This program is used\n",
        "to show how variable scope works.\n",
        "\"\"\"\n",
        "\n",
        "# Import the random library which lets us simulate random things like dice!\n",
        "\n",
        "import random\n",
        "\n",
        "# Numbers of sides on each die to roll\n",
        "NUM_SIDES = 6\n",
        "\n",
        "def roll_dice():\n",
        "    \"\"\"\n",
        "    Simulate rolling two dice and print their total\n",
        "    \"\"\"\n",
        "\n",
        "    die1: int = random.randint(1, NUM_SIDES)\n",
        "    die2: int = random.randint(1, NUM_SIDES)\n",
        "    total: int = die1 + die2\n",
        "    print(\"Total of two dice:\", total)\n",
        "\n",
        "def main():\n",
        "    die1: int = 10\n",
        "    print (\"die1 in main() starts as:\" + str(die1))\n",
        "    roll_dice()\n",
        "    roll_dice()\n",
        "    roll_dice()\n",
        "    print(\"die1 in main() is:\" + str(die1))\n",
        "\n",
        "if __name__ == \"__main__\":\n",
        "    main()\n",
        "\n",
        "\n",
        "\n",
        "\n",
        "\n"
      ]
    },
    {
      "cell_type": "code",
      "source": [
        "# 02_e=mc2\n",
        "\n",
        "C: int = 299792458 # The speed of light in m/s\n",
        "\n",
        "def main():\n",
        "    mass_in_kg: float = float(input(\"Enter killos of mass: \"))\n",
        "\n",
        "    # calculate energy\n",
        "    # equivalently energy = mass * (C ** 2)\n",
        "    # using the ** operator to raise C to the power of 2\n",
        "    energy_in_joules: float = mass_in_kg * (C ** 2)\n",
        "\n",
        "    # Display work to the user\n",
        "    print(\"e = m * C^2...\")\n",
        "    print(\"m = \" + str(mass_in_kg) + \"kg\")\n",
        "    print(\"C = \" + str(C) + \"m/s\")\n",
        "\n",
        "    print(str(energy_in_joules) + \"Joules of energy\")\n",
        "\n",
        "if __name__ == '__main__':\n",
        "    main()\n"
      ],
      "metadata": {
        "colab": {
          "base_uri": "https://localhost:8080/"
        },
        "id": "ycFwXnb6FKb1",
        "outputId": "4728b834-6fec-4406-eb97-4c73d41ee685"
      },
      "execution_count": null,
      "outputs": [
        {
          "output_type": "stream",
          "name": "stdout",
          "text": [
            "Enter killos of mass: 7\n",
            "e = m * C^2...\n",
            "m = 7.0kg\n",
            "C = 299792458m/s\n",
            "6.291286251157723e+17Joules of energy\n"
          ]
        }
      ]
    },
    {
      "cell_type": "code",
      "source": [
        "# 03_feet_to_inches\n",
        "\n",
        "\"\"\"\n",
        "An example programm with constants\n",
        "\"\"\"\n",
        "INCHES_IN_FOOT: int = 12\n",
        "\n",
        "def main():\n",
        "  feet : float = float(input(\"Enter number of feet: \"))\n",
        "  inches : float = feet * INCHES_IN_FOOT\n",
        "  print(\"That is \", inches, \"inches!\")\n",
        "\n",
        "if __name__ == '__main__':\n",
        "    main()\n"
      ],
      "metadata": {
        "colab": {
          "base_uri": "https://localhost:8080/"
        },
        "id": "kxnVuWwfJOzY",
        "outputId": "87122579-2159-492e-b14c-b185c3822154"
      },
      "execution_count": null,
      "outputs": [
        {
          "output_type": "stream",
          "name": "stdout",
          "text": [
            "Enter number of feet: 7\n",
            "That is  84.0 inches!\n"
          ]
        }
      ]
    },
    {
      "cell_type": "code",
      "source": [
        "# 04_pythagorean_theorem\n",
        "\n",
        "import math # import the math library so we can use the sqrt function\n",
        "\n",
        "def main():\n",
        "  ab: float = float(input(\"Enter the length of AB:\"))\n",
        "  ac: float = float(input(\"Enter the length of AC:\"))\n",
        "  bc: float = math.sqrt(ab ** 2 + ac ** 2)\n",
        "  print(\"The length of BC (the hypotenuse) is:\" + str(bc))\n",
        "\n",
        "if __name__ == '__main__':\n",
        "    main()"
      ],
      "metadata": {
        "colab": {
          "base_uri": "https://localhost:8080/"
        },
        "id": "e5uuU3UHN-bu",
        "outputId": "c8e12b1a-d9ec-4d6b-dce6-bb12e0cbd6f3"
      },
      "execution_count": null,
      "outputs": [
        {
          "output_type": "stream",
          "name": "stdout",
          "text": [
            "Enter the length of AB:2\n",
            "Enter the length of AC:2\n",
            "The length of BC (the hypotenuse) is:2.8284271247461903\n"
          ]
        }
      ]
    },
    {
      "cell_type": "code",
      "source": [
        "# 05_remainder_division\n",
        "\n",
        "def main():\n",
        "  # Get the numbers we want to divide\n",
        "  divident: int = int(input(\"Please enter an integar to be divided: \"))\n",
        "  divisor: int = int(input(\"Please enter an integar to divide by: \"))\n",
        "\n",
        "  quotient: int = divident // divisor # Divide with no remainder/decimals (integer division\n",
        "  remainder: int = divident % divisor # Get the remainder of the division (modulo)\n",
        "\n",
        "  print(\"The result of this division is \" + str(quotient) + \" with a remainder of \" + str(remainder))\n",
        "\n",
        "if __name__ == '__main__':\n",
        "    main()\n",
        "\n",
        "  # Calculate the quotient and remainder"
      ],
      "metadata": {
        "colab": {
          "base_uri": "https://localhost:8080/"
        },
        "id": "hjMOdOCBP1hh",
        "outputId": "25932a51-5d7c-4e31-953f-dc04fc387d84"
      },
      "execution_count": null,
      "outputs": [
        {
          "output_type": "stream",
          "name": "stdout",
          "text": [
            "Please enter an integar to be divided: 200\n",
            "Please enter an integar to divide by: 21\n",
            "The result of this division is 9 with a remainder of 11\n"
          ]
        }
      ]
    },
    {
      "cell_type": "code",
      "source": [
        "# 06_rolldice\n",
        "\"\"\"\n",
        "Simulate rolling two dice, and prints results of each\n",
        "roll as well as the total.\n",
        "\"\"\"\n",
        "import random\n",
        "\n",
        "# Number of sides on each die to roll\n",
        "\n",
        "NUM_SIDES: int = 6\n",
        "\n",
        "def main():\n",
        "  die1: int = random.randint(1, NUM_SIDES)\n",
        "  die2: int = random.randint(1, NUM_SIDES)\n",
        "  total: int = die1 + die2\n",
        "  print(\"Dice have\", NUM_SIDES, \"sides each\")\n",
        "  print(\"First die:\", die1)\n",
        "  print(\"Second die:\", die2)\n",
        "  print(\"Total of two dice :\", total)\n",
        "\n",
        "if __name__ == '__main__':\n",
        "    main()\n",
        "\n",
        "\n"
      ],
      "metadata": {
        "colab": {
          "base_uri": "https://localhost:8080/"
        },
        "id": "7SY2FATdRDQA",
        "outputId": "efb92bf7-5d4f-404d-947e-6580fc86a7a4"
      },
      "execution_count": null,
      "outputs": [
        {
          "output_type": "stream",
          "name": "stdout",
          "text": [
            "Dice have 6 sides each\n",
            "First die: 6\n",
            "Second die: 6\n",
            "Total of two dice : 12\n"
          ]
        }
      ]
    },
    {
      "cell_type": "code",
      "source": [
        "# 07_seconds_in_year\n",
        "\n",
        "DAYS_PER_YEAR: int = 365\n",
        "HOURS_PER_DAY: int = 24\n",
        "MIN_PER_HOUR: int = 60\n",
        "SEC_PER_MIN: int = 60\n",
        "\n",
        "def main():\n",
        "  print(\"There are \" + str(DAYS_PER_YEAR * HOURS_PER_DAY * MIN_PER_HOUR * SEC_PER_MIN) + \" seconds in a year!\")\n",
        "\n",
        "if __name__ == '__main__':\n",
        "    main()"
      ],
      "metadata": {
        "colab": {
          "base_uri": "https://localhost:8080/"
        },
        "id": "5WbogfVuTCn1",
        "outputId": "4e4135de-7964-4459-9adc-c7528e7de113"
      },
      "execution_count": null,
      "outputs": [
        {
          "output_type": "stream",
          "name": "stdout",
          "text": [
            "There are 31536000 seconds in a year!\n"
          ]
        }
      ]
    },
    {
      "cell_type": "code",
      "source": [
        "# 08_tiny_mad_lib\n",
        "\n",
        "SENTENCE_START: str = \"Panaversity is fun. I learned to program and used Python to make my\"\n",
        "\n",
        "def main():\n",
        "  adjective: str = input(\"Please type an adjective and press enter:\")\n",
        "  noun: str = input(\"Please type a noun and press enter:\")\n",
        "  verb: str = input(\"Please type a verb and press enter:\")\n",
        "\n",
        "  print(SENTENCE_START + \" \" + adjective + \" \" + noun + \" \" + verb + \"!\")\n",
        "\n",
        "if __name__ == '__main__':\n",
        "    main()\n"
      ],
      "metadata": {
        "colab": {
          "base_uri": "https://localhost:8080/"
        },
        "id": "O4wJN_uWTNrj",
        "outputId": "3d0bbc8d-0dbe-48e8-bdb9-64b7aa24cce6"
      },
      "execution_count": null,
      "outputs": [
        {
          "output_type": "stream",
          "name": "stdout",
          "text": [
            "Please type an adjective and press enter:experience\n",
            "Please type a noun and press enter:and\n",
            "Please type a verb and press enter:money\n",
            "Panaversity is fun. I learned to program and used Python to make my experience and money!\n"
          ]
        }
      ]
    }
  ]
}