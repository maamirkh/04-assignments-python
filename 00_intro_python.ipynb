{
  "nbformat": 4,
  "nbformat_minor": 0,
  "metadata": {
    "colab": {
      "provenance": [],
      "authorship_tag": "ABX9TyOE0OkpD1x9aIMgDXX7HmJ8",
      "include_colab_link": true
    },
    "kernelspec": {
      "name": "python3",
      "display_name": "Python 3"
    },
    "language_info": {
      "name": "python"
    }
  },
  "cells": [
    {
      "cell_type": "markdown",
      "metadata": {
        "id": "view-in-github",
        "colab_type": "text"
      },
      "source": [
        "<a href=\"https://colab.research.google.com/github/maamirkh/04-assignments-python/blob/main/00_intro_python.ipynb\" target=\"_parent\"><img src=\"https://colab.research.google.com/assets/colab-badge.svg\" alt=\"Open In Colab\"/></a>"
      ]
    },
    {
      "cell_type": "code",
      "execution_count": null,
      "metadata": {
        "colab": {
          "base_uri": "https://localhost:8080/"
        },
        "id": "kHjljNQ7cCOE",
        "outputId": "a3cbf629-dfdc-480e-b1f1-8d5e9ecd52ae"
      },
      "outputs": [
        {
          "output_type": "stream",
          "name": "stdout",
          "text": [
            "This program adds  two numbers.\n",
            "Enter first number :2\n",
            "Enter second number :2\n",
            "The total is 4.\n"
          ]
        }
      ],
      "source": [
        "# 01_add_two_numbers\n",
        "\n",
        "\"\"\"\n",
        "Programm: add2numbers\n",
        "\"\"\"\n",
        "\n",
        "def main():\n",
        "  print('This program adds  two numbers.')\n",
        "  num1 : str = input(\"Enter first number :\")\n",
        "  num1 : int = int(num1)\n",
        "  num2 : str = input(\"Enter second number :\")\n",
        "  num2 : int = int(num2)\n",
        "  total : int = num1 + num2\n",
        "  print(\"The total is \" + str(total) + \".\")\n",
        "\n",
        "# This provided line is required at the end of\n",
        "# Python file to call the main() function\n",
        "\n",
        "if __name__ == '__main__':\n",
        "    main()"
      ]
    },
    {
      "cell_type": "code",
      "source": [
        "# 02-agreement_bot\n",
        "\n",
        "def main():\n",
        "  response = str(input(\"What is your favorite Animal?\"))\n",
        "  print(\"My favorite animal is also \" + str(response) + \"!\")\n",
        "\n",
        "if __name__ == '__main__':\n",
        "    main()"
      ],
      "metadata": {
        "colab": {
          "base_uri": "https://localhost:8080/"
        },
        "id": "HawS5AdcvJIf",
        "outputId": "71ae1bd9-62db-4c43-92ad-c39cf4e3b669"
      },
      "execution_count": null,
      "outputs": [
        {
          "output_type": "stream",
          "name": "stdout",
          "text": [
            "What is your favorite Animal?cow\n",
            "My favorite animal is also cow!\n"
          ]
        }
      ]
    },
    {
      "cell_type": "code",
      "source": [
        "# 03_fahrenheit_to_celsius_converter\n",
        "\n",
        "def main():\n",
        "  fahrenheit: int = input(\"Enter temperature in Fahrenheit:\")\n",
        "  celsius:float = (float(fahrenheit) - 32) * 5.0 / 9.0\n",
        "  print(f\"Temperature: {fahrenheit}F = {celsius}C\")\n",
        "\n",
        "if __name__ == '__main__':\n",
        "    main()\n"
      ],
      "metadata": {
        "colab": {
          "base_uri": "https://localhost:8080/"
        },
        "id": "bPcD2cwzyMKD",
        "outputId": "363c4240-bf00-4b7e-add1-fab0987132f2"
      },
      "execution_count": null,
      "outputs": [
        {
          "output_type": "stream",
          "name": "stdout",
          "text": [
            "Enter temperature in Fahrenheit:80\n",
            "Temperature: 80F = 26.666666666666668C\n"
          ]
        }
      ]
    },
    {
      "cell_type": "code",
      "source": [
        "# 04_how_old_are-they\n",
        "\n",
        "def main():\n",
        "  anton : int = 21\n",
        "  beth : int = 6 + anton\n",
        "  chen : int = 20 + beth\n",
        "  drew : int = chen + anton\n",
        "  ethan : int = chen\n",
        "\n",
        "  print(\"Anton is \" + str(anton) + \" years old.\")\n",
        "  print(\"Beth is \" + str(beth) + \" years old.\")\n",
        "  print(\"Chen is \" + str(chen) + \" years old.\")\n",
        "  print(\"Drew is \" + str(drew) + \" years old.\")\n",
        "  print(\"Ethan is \" + str(ethan) + \" years old.\")\n",
        "\n",
        "if __name__ == '__main__':\n",
        "    main()"
      ],
      "metadata": {
        "colab": {
          "base_uri": "https://localhost:8080/"
        },
        "id": "P8oBwMSG4B8N",
        "outputId": "65244b7f-ae6c-4d13-cab8-99b0e80d3d3b"
      },
      "execution_count": null,
      "outputs": [
        {
          "output_type": "stream",
          "name": "stdout",
          "text": [
            "Anton is 21 years old.\n",
            "Beth is 27 years old.\n",
            "Chen is 47 years old.\n",
            "Drew is 68 years old.\n",
            "Ethan is 47 years old.\n"
          ]
        }
      ]
    },
    {
      "cell_type": "code",
      "source": [
        "# 05_triangle_perimeter\n",
        "\n",
        "def main():\n",
        "  side1 : float = float(input(\"What is the length of side 1:\"))\n",
        "  side2 : float = float(input(\"What is the length of side 2:\"))\n",
        "  side3 : float = float(input(\"What is the length of side 3:\"))\n",
        "\n",
        "  print(\"The perimeter of the  triangle is \" + str(side1 + side2 + side3) + \".\")\n",
        "\n",
        "if __name__ == '__main__':\n",
        "    main()\n"
      ],
      "metadata": {
        "colab": {
          "base_uri": "https://localhost:8080/"
        },
        "id": "bjvWz8q66r-Y",
        "outputId": "2b4c2a16-e284-4b93-c0e8-ad98282999ae"
      },
      "execution_count": null,
      "outputs": [
        {
          "output_type": "stream",
          "name": "stdout",
          "text": [
            "What is the length of side 1:2\n",
            "What is the length of side 2:5\n",
            "What is the length of side 3:6\n",
            "The perimeter is of triangle is 13.0.\n"
          ]
        }
      ]
    },
    {
      "cell_type": "code",
      "source": [
        "# 06_square_number\n",
        "\n",
        "def main():\n",
        "  num : float = float(input(\"Type a number to see its square:\"))\n",
        "  print(str(num)+\" \" + \"squared is:\" + \" \" + str(num ** 2))\n",
        "\n",
        "if __name__ == '__main__':\n",
        "  main()"
      ],
      "metadata": {
        "colab": {
          "base_uri": "https://localhost:8080/"
        },
        "id": "CY1fEhMc7kYr",
        "outputId": "0d739c7a-bfdb-4f0b-ea59-c1f3e25cb2eb"
      },
      "execution_count": null,
      "outputs": [
        {
          "output_type": "stream",
          "name": "stdout",
          "text": [
            "Type a number to see its square:6\n",
            "6.0 squared is: 36.0\n"
          ]
        }
      ]
    }
  ]
}